{
 "cells": [
  {
   "cell_type": "code",
   "execution_count": null,
   "metadata": {},
   "outputs": [],
   "source": [
    "\"\"\" \n",
    "Notebook to publish and read data from SQS.:\n",
    "\n",
    "    - Publishes messages to the queue.\n",
    "    - Reads messages from the queue.\n",
    "    - Deletes messages to prevent reprocessing.\n",
    "\n",
    "EDEM. Master Big Data & Cloud 2024/2025\n",
    "Professor: Javi Briones\n",
    "\"\"\""
   ]
  },
  {
   "cell_type": "markdown",
   "metadata": {},
   "source": [
    "#### Setup"
   ]
  },
  {
   "cell_type": "code",
   "execution_count": 15,
   "metadata": {},
   "outputs": [
    {
     "data": {
      "text/plain": [
       "True"
      ]
     },
     "execution_count": 15,
     "metadata": {},
     "output_type": "execute_result"
    }
   ],
   "source": [
    "# Load environment variables from .dev file\n",
    "from dotenv import load_dotenv\n",
    "load_dotenv(dotenv_path=\"../../00_DocAux/.dev\")"
   ]
  },
  {
   "cell_type": "code",
   "execution_count": 16,
   "metadata": {},
   "outputs": [],
   "source": [
    "# Your AWS Credentials\n",
    "import os\n",
    "\n",
    "AWS_ACCESS_KEY = os.getenv(\"AWS_ACCESS_KEY\")\n",
    "AWS_SECRET_KEY = os.getenv(\"AWS_SECRET_KEY\")\n",
    "AWS_REGION = os.getenv(\"AWS_REGION\", \"eu-central-1\") "
   ]
  },
  {
   "cell_type": "code",
   "execution_count": null,
   "metadata": {},
   "outputs": [],
   "source": [
    "queue_url = '<YOUR_QUEUE_URL>'"
   ]
  },
  {
   "cell_type": "code",
   "execution_count": 17,
   "metadata": {},
   "outputs": [],
   "source": [
    "import boto3\n",
    "\n",
    "# Create session\n",
    "session = boto3.Session(\n",
    "    aws_access_key_id=AWS_ACCESS_KEY,\n",
    "    aws_secret_access_key=AWS_SECRET_KEY,\n",
    "    region_name=AWS_REGION\n",
    ")"
   ]
  },
  {
   "cell_type": "code",
   "execution_count": null,
   "metadata": {},
   "outputs": [],
   "source": [
    "# Set SQS Client\n",
    "sqs = session.client('sqs')"
   ]
  },
  {
   "cell_type": "markdown",
   "metadata": {},
   "source": [
    "#### Publish Messages to the Queue"
   ]
  },
  {
   "cell_type": "code",
   "execution_count": null,
   "metadata": {},
   "outputs": [],
   "source": [
    "try:\n",
    "\n",
    "    response = sqs.send_message(\n",
    "        QueueUrl=queue_url,\n",
    "        MessageBody='My First message'\n",
    "    )\n",
    "\n",
    "    print(\"message sent \", response['MessageId'])\n",
    "\n",
    "except Exception as e:\n",
    "\n",
    "    print(e)"
   ]
  },
  {
   "cell_type": "markdown",
   "metadata": {},
   "source": [
    "#### Read Messages from the Queue"
   ]
  },
  {
   "cell_type": "code",
   "execution_count": null,
   "metadata": {},
   "outputs": [],
   "source": [
    "response = sqs.receive_message(\n",
    "    QueueUrl=queue_url,\n",
    "    MaxNumberOfMessages=10,\n",
    "    WaitTimeSeconds=10 \n",
    ")\n",
    "\n",
    "messages = response.get('Messages', [])\n",
    "\n",
    "if messages:\n",
    "    for message in messages:\n",
    "        \n",
    "        print(\"Message received:\", message['Body'])\n",
    "\n",
    "else:\n",
    "    print(\"No messages received.\")"
   ]
  },
  {
   "cell_type": "markdown",
   "metadata": {},
   "source": [
    "#### Deletes messages to prevent reprocessing"
   ]
  },
  {
   "cell_type": "code",
   "execution_count": null,
   "metadata": {},
   "outputs": [],
   "source": [
    "response = sqs.receive_message(\n",
    "    QueueUrl=queue_url,\n",
    "    MaxNumberOfMessages=10,\n",
    "    WaitTimeSeconds=10 \n",
    ")\n",
    "\n",
    "messages = response.get('Messages', [])\n",
    "\n",
    "if messages:\n",
    "    for message in messages:\n",
    "        \n",
    "        print(\"Message received:\", message['Body'])\n",
    "\n",
    "        sqs.delete_message(\n",
    "            QueueUrl=queue_url,\n",
    "            ReceiptHandle=message['ReceiptHandle']\n",
    "        )\n",
    "        print(\"Message deleted from the queue.\")\n",
    "\n",
    "else:\n",
    "    print(\"No messages received.\")"
   ]
  }
 ],
 "metadata": {
  "kernelspec": {
   "display_name": "base",
   "language": "python",
   "name": "python3"
  },
  "language_info": {
   "codemirror_mode": {
    "name": "ipython",
    "version": 3
   },
   "file_extension": ".py",
   "mimetype": "text/x-python",
   "name": "python",
   "nbconvert_exporter": "python",
   "pygments_lexer": "ipython3",
   "version": "3.10.9"
  }
 },
 "nbformat": 4,
 "nbformat_minor": 2
}
