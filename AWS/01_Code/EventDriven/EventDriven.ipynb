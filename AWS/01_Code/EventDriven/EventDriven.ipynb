{
 "cells": [
  {
   "cell_type": "code",
   "execution_count": null,
   "metadata": {},
   "outputs": [],
   "source": [
    "\"\"\" \n",
    "Notebook: Simulate the operations performed by different humans throughout the E2E Flow:\n",
    "\n",
    "    - Customers will place an order from the restaurant screens via an API request.\n",
    "    - The restaurant staff will either accept or reject the request\n",
    "\n",
    "EDEM. Master Big Data & Cloud 2024/2025\n",
    "Professor: Javi Briones\n",
    "\"\"\""
   ]
  },
  {
   "cell_type": "markdown",
   "metadata": {},
   "source": [
    "#### AWS Setup"
   ]
  },
  {
   "cell_type": "code",
   "execution_count": null,
   "metadata": {},
   "outputs": [],
   "source": [
    "# Load environment variables from .dev file\n",
    "from dotenv import load_dotenv\n",
    "\n",
    "load_dotenv(dotenv_path=\"../../00_DocAux/.dev\") "
   ]
  },
  {
   "cell_type": "code",
   "execution_count": null,
   "metadata": {},
   "outputs": [],
   "source": [
    "# Your AWS Credentials\n",
    "import os\n",
    "\n",
    "AWS_ACCESS_KEY = os.getenv(\"AWS_ACCESS_KEY_ID\")\n",
    "AWS_SECRET_KEY = os.getenv(\"AWS_SECRET_ACCESS_KEY\")\n",
    "REGION = os.getenv(\"AWS_REGION\", \"eu-west-3\") "
   ]
  },
  {
   "cell_type": "code",
   "execution_count": null,
   "metadata": {},
   "outputs": [],
   "source": [
    "import boto3\n",
    "\n",
    "session = boto3.Session(\n",
    "    aws_access_key_id=AWS_ACCESS_KEY,\n",
    "    aws_secret_access_key=AWS_SECRET_KEY,\n",
    "    region_name=REGION\n",
    ")"
   ]
  },
  {
   "cell_type": "markdown",
   "metadata": {},
   "source": [
    "#### Create an order: Payload"
   ]
  },
  {
   "cell_type": "code",
   "execution_count": null,
   "metadata": {},
   "outputs": [],
   "source": [
    "import random\n",
    "\n",
    "payload = {\n",
    "  \"orderId\": random.randint(0,9999),\n",
    "  \"customer\": \"<YOUR_NAME>\",\n",
    "  \"items\": [\n",
    "    {\n",
    "      \"id\": \"1\",\n",
    "      \"name\": \"Taco Supreme\"\n",
    "    },\n",
    "    {\n",
    "      \"id\": \"2\",\n",
    "      \"name\": \"Quesadilla\"\n",
    "    }\n",
    "  ]\n",
    "}"
   ]
  },
  {
   "cell_type": "markdown",
   "metadata": {},
   "source": [
    "#### Human Approval"
   ]
  },
  {
   "cell_type": "code",
   "execution_count": null,
   "metadata": {},
   "outputs": [],
   "source": [
    "import boto3\n",
    "import json"
   ]
  },
  {
   "cell_type": "code",
   "execution_count": null,
   "metadata": {},
   "outputs": [],
   "source": [
    "# Initialize Lambda client\n",
    "lambda_client = session.client('lambda')"
   ]
  },
  {
   "cell_type": "code",
   "execution_count": null,
   "metadata": {},
   "outputs": [],
   "source": [
    "# Replace with the actual token from LambdaHumanApproval logs\n",
    "task_token = input('task_token')"
   ]
  },
  {
   "cell_type": "code",
   "execution_count": null,
   "metadata": {},
   "outputs": [],
   "source": [
    "# Simulate Approval\n",
    "payload = {\n",
    "    \"taskToken\": task_token,\n",
    "    \"customer\": \"\", #TBD\n",
    "    \"orderId\": \"\", #TBD\n",
    "    \"approved\": True  # Set to False if you want to simulate rejection\n",
    "}"
   ]
  },
  {
   "cell_type": "code",
   "execution_count": null,
   "metadata": {},
   "outputs": [],
   "source": [
    "# Invoke the approval handler Lambda\n",
    "response = lambda_client.invoke(\n",
    "    FunctionName='LambdaApprovalHandler',\n",
    "    Payload=json.dumps(payload)\n",
    ")\n",
    "\n",
    "# Read and print Lambda response\n",
    "print(response['StatusCode'])\n",
    "print(response['Payload'].read().decode())"
   ]
  }
 ],
 "metadata": {
  "kernelspec": {
   "display_name": "base",
   "language": "python",
   "name": "python3"
  },
  "language_info": {
   "codemirror_mode": {
    "name": "ipython",
    "version": 3
   },
   "file_extension": ".py",
   "mimetype": "text/x-python",
   "name": "python",
   "nbconvert_exporter": "python",
   "pygments_lexer": "ipython3",
   "version": "3.10.9"
  }
 },
 "nbformat": 4,
 "nbformat_minor": 2
}
