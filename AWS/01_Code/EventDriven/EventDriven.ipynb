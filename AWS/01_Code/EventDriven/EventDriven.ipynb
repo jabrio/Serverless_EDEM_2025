{
 "cells": [
  {
   "cell_type": "code",
   "execution_count": null,
   "metadata": {},
   "outputs": [],
   "source": [
    "\"\"\" \n",
    "Notebook: Simulate the operations performed by different humans throughout the E2E Flow:\n",
    "\n",
    "    - Customers will place an order from the restaurant screens via an API request.\n",
    "    - The restaurant staff will either accept or reject the request\n",
    "\n",
    "EDEM. Master Big Data & Cloud 2024/2025\n",
    "Professor: Javi Briones\n",
    "\"\"\""
   ]
  },
  {
   "cell_type": "markdown",
   "metadata": {},
   "source": [
    "#### AWS Setup"
   ]
  },
  {
   "cell_type": "code",
   "execution_count": 10,
   "metadata": {},
   "outputs": [
    {
     "data": {
      "text/plain": [
       "True"
      ]
     },
     "execution_count": 10,
     "metadata": {},
     "output_type": "execute_result"
    }
   ],
   "source": [
    "# Load environment variables from .dev file\n",
    "from dotenv import load_dotenv\n",
    "\n",
    "load_dotenv(dotenv_path=\"../../00_DocAux/.dev\") "
   ]
  },
  {
   "cell_type": "code",
   "execution_count": 31,
   "metadata": {},
   "outputs": [],
   "source": [
    "# Your AWS Credentials\n",
    "import os\n",
    "\n",
    "AWS_ACCESS_KEY = os.getenv(\"AWS_ACCESS_KEY\")\n",
    "AWS_SECRET_KEY = os.getenv(\"AWS_SECRET_KEY\")\n",
    "REGION = os.getenv(\"AWS_REGION\", \"eu-west-3\") "
   ]
  },
  {
   "cell_type": "code",
   "execution_count": 33,
   "metadata": {},
   "outputs": [],
   "source": [
    "import boto3\n",
    "\n",
    "session = boto3.Session(\n",
    "    aws_access_key_id=AWS_ACCESS_KEY,\n",
    "    aws_secret_access_key=AWS_SECRET_KEY,\n",
    "    region_name=REGION\n",
    ")"
   ]
  },
  {
   "cell_type": "markdown",
   "metadata": {},
   "source": [
    "#### Create an order: Payload"
   ]
  },
  {
   "cell_type": "code",
   "execution_count": 46,
   "metadata": {},
   "outputs": [],
   "source": [
    "import random\n",
    "\n",
    "payload = {\n",
    "  \"orderId\": random.randint(0,9999),\n",
    "  \"customer\": \"Javi\",\n",
    "  \"items\": [\n",
    "    {\n",
    "      \"id\": \"1\",\n",
    "      \"name\": \"Taco Supreme\"\n",
    "    },\n",
    "    {\n",
    "      \"id\": \"2\",\n",
    "      \"name\": \"Quesadilla\"\n",
    "    }\n",
    "  ]\n",
    "}"
   ]
  },
  {
   "cell_type": "code",
   "execution_count": 47,
   "metadata": {},
   "outputs": [
    {
     "data": {
      "text/plain": [
       "{'orderId': 3322,\n",
       " 'customer': 'Javi',\n",
       " 'items': [{'id': '1', 'name': 'Taco Supreme'},\n",
       "  {'id': '2', 'name': 'Quesadilla'}]}"
      ]
     },
     "execution_count": 47,
     "metadata": {},
     "output_type": "execute_result"
    }
   ],
   "source": [
    "payload"
   ]
  },
  {
   "cell_type": "markdown",
   "metadata": {},
   "source": [
    "#### Human Approval"
   ]
  },
  {
   "cell_type": "code",
   "execution_count": 9,
   "metadata": {},
   "outputs": [],
   "source": [
    "import boto3\n",
    "import json"
   ]
  },
  {
   "cell_type": "code",
   "execution_count": 35,
   "metadata": {},
   "outputs": [],
   "source": [
    "# Initialize Lambda client\n",
    "lambda_client = session.client('lambda')"
   ]
  },
  {
   "cell_type": "code",
   "execution_count": 44,
   "metadata": {},
   "outputs": [],
   "source": [
    "# Replace with the actual token from LambdaHumanApproval logs\n",
    "task_token = input('task_token')"
   ]
  },
  {
   "cell_type": "code",
   "execution_count": 43,
   "metadata": {},
   "outputs": [],
   "source": [
    "# Simulate Approval\n",
    "payload = {\n",
    "    \"taskToken\": task_token,\n",
    "    \"customer\": \"Javi\", #TBD\n",
    "    \"orderId\": \"12345\", #TBD\n",
    "    \"approved\": True  # Set to False if you want to simulate rejection\n",
    "}"
   ]
  },
  {
   "cell_type": "code",
   "execution_count": 45,
   "metadata": {},
   "outputs": [
    {
     "name": "stdout",
     "output_type": "stream",
     "text": [
      "200\n",
      "{\"statusCode\": 200, \"body\": \"\\\"Approval submitted.\\\"\"}\n"
     ]
    }
   ],
   "source": [
    "# Invoke the approval handler Lambda\n",
    "response = lambda_client.invoke(\n",
    "    FunctionName='LambdaApprovalHandler',\n",
    "    Payload=json.dumps(payload)\n",
    ")\n",
    "\n",
    "# Read and print Lambda response\n",
    "print(response['StatusCode'])\n",
    "print(response['Payload'].read().decode())"
   ]
  },
  {
   "cell_type": "code",
   "execution_count": 7,
   "metadata": {},
   "outputs": [],
   "source": [
    "payload = {\n",
    "    \"detail\": {\n",
    "        \"orderId\": 2959,\n",
    "        \"customer\": \"Javi\"\n",
    "    }\n",
    "}"
   ]
  },
  {
   "cell_type": "code",
   "execution_count": 8,
   "metadata": {},
   "outputs": [
    {
     "data": {
      "text/plain": [
       "'Javi'"
      ]
     },
     "execution_count": 8,
     "metadata": {},
     "output_type": "execute_result"
    }
   ],
   "source": [
    "payload['detail']['customer']"
   ]
  },
  {
   "cell_type": "code",
   "execution_count": null,
   "metadata": {},
   "outputs": [],
   "source": []
  }
 ],
 "metadata": {
  "kernelspec": {
   "display_name": "base",
   "language": "python",
   "name": "python3"
  },
  "language_info": {
   "codemirror_mode": {
    "name": "ipython",
    "version": 3
   },
   "file_extension": ".py",
   "mimetype": "text/x-python",
   "name": "python",
   "nbconvert_exporter": "python",
   "pygments_lexer": "ipython3",
   "version": "3.10.9"
  }
 },
 "nbformat": 4,
 "nbformat_minor": 2
}
