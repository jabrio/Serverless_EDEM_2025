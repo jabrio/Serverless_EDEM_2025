{
 "cells": [
  {
   "cell_type": "markdown",
   "metadata": {},
   "source": [
    "## **PubSub with Apache Beam**\n",
    "\n",
    "Description: This notebook will teach you the basics of working with PubSub in Google Cloud Platform (GCP):\n",
    "\n",
    "- What is PubSub?\n",
    "- Creating topics and subscriptions programmatically.\n",
    "- Publishing and consuming messages.\n",
    "- Advanced topics:\n",
    "   - Dead Letter Queues (DLQs)\n",
    "   - Schema setup for PubSub\n",
    "   - Message ordering\n",
    "   - Push vs. Pull subscriptions\n",
    "\n",
    "\n",
    "EDEM. Master Big Data & Cloud 2024/2025<br>\n",
    "Professor: Javi Briones"
   ]
  },
  {
   "cell_type": "code",
   "execution_count": null,
   "metadata": {},
   "outputs": [],
   "source": [
    "!pip install google-cloud-pubsub --quiet"
   ]
  },
  {
   "cell_type": "code",
   "execution_count": null,
   "metadata": {},
   "outputs": [],
   "source": [
    "# Import libraries\n",
    "from google.cloud import pubsub_v1\n",
    "import logging\n",
    "import time"
   ]
  },
  {
   "cell_type": "code",
   "execution_count": null,
   "metadata": {},
   "outputs": [],
   "source": [
    "# Set logs\n",
    "logging.basicConfig(level=logging.INFO)"
   ]
  },
  {
   "cell_type": "markdown",
   "metadata": {},
   "source": [
    "### **What is PubSub?**\n",
    "\n",
    "Google Cloud PubSub is a fully managed messaging service that allows you to:\n",
    "\n",
    "- Enable **real-time event streaming** by decoupling publishers and subscribers.\n",
    "- **Publishers** send messages to **topics**.\n",
    "- **Subscribers** receive messages through **subscriptions**.\n",
    "\n",
    "#### **Key Concepts**\n",
    "\n",
    "- **Topic:** A named resource that serves as the entry point for messages.\n",
    "- **Subscription:** A named resource representing the subscriber’s interest in a topic.\n",
    "- **Publisher:** The application that sends messages to the topic.\n",
    "- **Subscriber:** The application that receives messages from a subscription.\n",
    "\n"
   ]
  },
  {
   "cell_type": "markdown",
   "metadata": {},
   "source": [
    "### **Creating topics and subscriptions**"
   ]
  },
  {
   "cell_type": "code",
   "execution_count": null,
   "metadata": {},
   "outputs": [],
   "source": [
    "# Variables\n",
    "project_id = \"your-gcp-project-id\"\n",
    "topic_id = \"your-gcp-pubsub-topic-id\"\n",
    "subscription_id = \"your-gcp-pubsub-subscription-id\"\n",
    "ordered_topic_id = \"your-gcp-pubsub-ordered-topic-id\"\n",
    "ordered_subscription_id = \"your-gcp-pubsub-ordered-subscription-id\"\n",
    "dlq_topic_id = \"your-gcp-pubsub-dlq-topic-id\"\n",
    "dlq_subscription_id = \"your-gcp-pubsub-dlq-subscription-id\"\n",
    "\n",
    "# PubSub Client\n",
    "publisher = pubsub_v1.PublisherClient()\n",
    "subscriber = pubsub_v1.SubscriberClient()\n",
    "\n",
    "# Full paths\n",
    "topic_path = publisher.topic_path(project_id, topic_id)\n",
    "subscription_path = subscriber.subscription_path(project_id, subscription_id)\n",
    "ordered_topic_path = publisher.topic_path(project_id, ordered_topic_id)\n",
    "ordered_subscription_path = subscriber.subscription_path(project_id, ordered_subscription_id)\n",
    "dlq_topic_path = publisher.topic_path(project_id, dlq_topic_id)\n",
    "dlq_subscription_path = subscriber.subscription_path(project_id, dlq_subscription_id)"
   ]
  },
  {
   "cell_type": "code",
   "execution_count": null,
   "metadata": {},
   "outputs": [],
   "source": [
    "\"\"\"\n",
    "Exercise 01: Create a PubSub Topic using the Python Client Library.\n",
    "\"\"\"\n",
    "\n",
    "logging.info(f\"Creating topic: {topic_id}\")\n",
    "\n",
    "try:\n",
    "    publisher.create_topic(name=topic_path)\n",
    "    logging.info(f\"Topic created: {topic_path}\")\n",
    "\n",
    "except Exception as err:\n",
    "    logging.error(f\"Topic may already exist: {err}\")"
   ]
  },
  {
   "cell_type": "code",
   "execution_count": null,
   "metadata": {},
   "outputs": [],
   "source": [
    "\"\"\"\n",
    "Exercise 02: Create a PubSub Subscription using the Python Client Library.\n",
    "\"\"\"\n",
    "\n",
    "logging.info(f\"Creating subscription: {subscription_id}\")\n",
    "\n",
    "try:\n",
    "    subscriber.create_subscription(name=subscription_path, topic=topic_path)\n",
    "    logging.info(f\"Subscription created: {subscription_path}\")\n",
    "\n",
    "except Exception as err:\n",
    "    logging.error(f\"Subscription may already exist: {err}\")"
   ]
  },
  {
   "cell_type": "code",
   "execution_count": null,
   "metadata": {},
   "outputs": [],
   "source": [
    "\"\"\"\n",
    "Exercise 03: Publish messages to a PubSub Queue using the Python Client Library.\n",
    "\"\"\"\n",
    "\n",
    "def publish_messages(publisher, topic_path):\n",
    "\n",
    "    for i in range(5):\n",
    "        \n",
    "        payload = {'id':i}\n",
    "        msg = payload.encode(\"utf-8\")\n",
    "        future = publisher.publish(topic_path, msg)\n",
    "\n",
    "        logging.info(f\"Published {msg} with message ID {future.result()}\")\n",
    "\n",
    "publish_messages(publisher, topic_path)"
   ]
  },
  {
   "cell_type": "code",
   "execution_count": null,
   "metadata": {},
   "outputs": [],
   "source": [
    "\"\"\"\n",
    "Exercise 04: Pull messages from a PubSub Queue using the Python Client Library.\n",
    "\"\"\"\n",
    "\n",
    "def pull_messages(subscriber, subscription_path):\n",
    "\n",
    "    with subscriber:\n",
    "\n",
    "        response = subscriber.pull(\n",
    "            request={\"subscription\": subscription_path, \"max_messages\": 5}\n",
    "        )\n",
    "\n",
    "        for msg in response.received_messages:\n",
    "\n",
    "            logging.info(f\"Received: {msg.message.data.decode('utf-8')}\")\n",
    "\n",
    "            subscriber.acknowledge(\n",
    "                request={\"subscription\": subscription_path, \"ack_ids\": [msg.ack_id]}\n",
    "            )\n",
    "\n",
    "pull_messages(subscriber, subscription_path)"
   ]
  },
  {
   "cell_type": "markdown",
   "metadata": {},
   "source": [
    "### **Advanced Pub/Sub Concepts**\n",
    "\n",
    "- **Dead Letter Queues (DLQs):**\n",
    "   - A special subscription that collects undeliverable messages.\n",
    "   - Useful for handling processing failures.\n",
    "\n",
    "- **Schema Setup:**\n",
    "   - Enforcing a specific format for Pub/Sub messages.\n",
    "   - Ensures data consistency across publishers and subscribers.\n",
    "\n",
    "- **Message Ordering:**\n",
    "   - Enabling message ordering guarantees that messages with the same key are delivered in order.\n",
    "   - Useful for stateful processing or time-series data.\n",
    "\n",
    "- **Push vs. Pull Subscriptions:**\n",
    "   - **Push:** Pub/Sub sends messages directly to an HTTP endpoint.\n",
    "   - **Pull:** Subscribers pull messages explicitly, allowing more control over processing.\n"
   ]
  },
  {
   "cell_type": "code",
   "execution_count": null,
   "metadata": {},
   "outputs": [],
   "source": [
    "\"\"\"\n",
    "Exercise 05: Demonstrating Message Ordering in PubSub.\n",
    "\"\"\"\n",
    "\n",
    "# Create a topic with message ordering enabled\n",
    "logging.info(f\"Creating topic: {topic_id}\")\n",
    "\n",
    "try:\n",
    "    publisher.create_topic(\n",
    "        request={\n",
    "            \"name\": ordered_topic_path,\n",
    "            \"labels\": {\"purpose\": \"ordering-demo\"},\n",
    "            \"enable_message_ordering\": True\n",
    "        }\n",
    "    )\n",
    "    logging.info(f\"Ordered topic created: {ordered_topic_path}\")\n",
    "\n",
    "except Exception as err:\n",
    "    logging.warning(f\"Topic may already exist: {err}\")\n",
    "\n",
    "# Create a subscription for the ordered topic\n",
    "try:\n",
    "    subscriber.create_subscription(\n",
    "        name=ordered_subscription_path,\n",
    "        topic=ordered_topic_path\n",
    "    )\n",
    "    logging.info(f\"Subscription created: {ordered_subscription_path}\")\n",
    "\n",
    "except Exception as err:\n",
    "    logging.warning(f\"Subscription may already exist: {err}\")\n",
    "\n",
    "# Run\n",
    "\n",
    "publish_messages(publisher, ordered_topic_path)\n",
    "pull_messages(subscriber, ordered_subscription_path)"
   ]
  },
  {
   "cell_type": "code",
   "execution_count": null,
   "metadata": {},
   "outputs": [],
   "source": [
    "\"\"\"\n",
    "Exercises 06 & 07: Enforcing Schema Validation with Dead Letter Queue.\n",
    "\"\"\"\n",
    "\n",
    "# Create the schema\n",
    "schema_id = \"edem-schema\"\n",
    "schema_definition = \"\"\"\n",
    "{\n",
    "  \"type\": \"record\",\n",
    "  \"name\": \"edem-message\",\n",
    "  \"fields\": [\n",
    "    {\"name\": \"id\", \"type\": \"int\"}\n",
    "  ]\n",
    "}\n",
    "\"\"\"\n",
    "\n",
    "try:\n",
    "    schema = publisher.create_schema(\n",
    "        request={\n",
    "            \"parent\": f\"projects/{project_id}\",\n",
    "            \"schema_id\": schema_id,\n",
    "            \"schema\": {\"type_\": \"AVRO\", \"definition\": schema_definition},\n",
    "        }\n",
    "    )\n",
    "    logging.info(f\"Created schema: {schema.name}\")\n",
    "\n",
    "except Exception as err:\n",
    "    logging.warning(f\"Schema may already exist: {err}\")\n",
    "\n",
    "# Create the DLQ Topic\n",
    "try:\n",
    "    publisher.create_topic(name=dlq_topic_path)\n",
    "    logging.info(f\"Created DLQ topic: {dlq_topic_path}\")\n",
    "\n",
    "except Exception as err:\n",
    "    logging.warning(f\"DLQ topic may already exist: {err}\")\n",
    "\n",
    "# Create a subscription with DLQ\n",
    "try:\n",
    "    subscriber.create_subscription(\n",
    "        name=subscription_path,\n",
    "        topic=topic_path,\n",
    "        dead_letter_policy={\n",
    "            \"dead_letter_topic\": dlq_topic_path,\n",
    "            \"max_delivery_attempts\": 3,\n",
    "        },\n",
    "    )\n",
    "    logging.info(f\"Created subscription with DLQ: {subscription_path}\")\n",
    "\n",
    "except Exception as err:\n",
    "    logging.warning(f\"Subscription may already exist: {err}\")\n"
   ]
  },
  {
   "cell_type": "code",
   "execution_count": null,
   "metadata": {},
   "outputs": [],
   "source": [
    "# A. Publish invalid message\n",
    "invalid_message= {}\n",
    "\n",
    "publisher.publish(topic_path, invalid_message)\n",
    "logging.info(\"Published invalid message (should go to DLQ)\")\n"
   ]
  },
  {
   "cell_type": "code",
   "execution_count": null,
   "metadata": {},
   "outputs": [],
   "source": [
    "# B. Pull messages from the DLQ\n",
    "pull_messages(subscriber, dlq_subscription_path)"
   ]
  },
  {
   "cell_type": "markdown",
   "metadata": {},
   "source": [
    "### **Clean Up**"
   ]
  },
  {
   "cell_type": "code",
   "execution_count": null,
   "metadata": {},
   "outputs": [],
   "source": [
    "topics = []\n",
    "subscriptions = []\n",
    "\n",
    "topics.append(topic_path)\n",
    "topics.append(ordered_topic_path)\n",
    "topics.append(dlq_topic_path)\n",
    "\n",
    "subscriptions.append(subscription_path)\n",
    "subscriptions.append(ordered_subscription_path)\n",
    "subscriptions.append(dlq_subscription_path)"
   ]
  },
  {
   "cell_type": "code",
   "execution_count": null,
   "metadata": {},
   "outputs": [],
   "source": [
    "# Delete Topics\n",
    "for topic in topics:\n",
    "\n",
    "    try:\n",
    "        publisher.delete_topic(request={\"topic\": topic})\n",
    "        logging.info(f\"Topic deleted: {topic}\")\n",
    "\n",
    "    except Exception as e:\n",
    "        logging.info(f\"Error while deleting the topic: {e}\")"
   ]
  },
  {
   "cell_type": "code",
   "execution_count": null,
   "metadata": {},
   "outputs": [],
   "source": [
    "# Delete Subscriptions\n",
    "for subscription in subscriptions:\n",
    "\n",
    "    try:\n",
    "        publisher.delete_topic(request={\"subscription\": subscription})\n",
    "        logging.info(f\"Topic deleted: {subscription}\")\n",
    "\n",
    "    except Exception as e:\n",
    "        logging.info(f\"Error while deleting the topic: {e}\")"
   ]
  }
 ],
 "metadata": {
  "kernelspec": {
   "display_name": "base",
   "language": "python",
   "name": "python3"
  },
  "language_info": {
   "codemirror_mode": {
    "name": "ipython",
    "version": 3
   },
   "file_extension": ".py",
   "mimetype": "text/x-python",
   "name": "python",
   "nbconvert_exporter": "python",
   "pygments_lexer": "ipython3",
   "version": "3.10.9"
  }
 },
 "nbformat": 4,
 "nbformat_minor": 2
}
