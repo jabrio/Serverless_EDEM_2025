{
 "cells": [
  {
   "cell_type": "code",
   "execution_count": 7,
   "metadata": {},
   "outputs": [],
   "source": [
    "from google.cloud import vision"
   ]
  },
  {
   "cell_type": "code",
   "execution_count": 1,
   "metadata": {},
   "outputs": [],
   "source": [
    "# Request image to Image API\n",
    "\n",
    "import requests\n",
    "\n",
    "api_url = \"https://europe-southwest1-serverless-edem.cloudfunctions.net/getTrafficImages\"\n",
    "service = requests.get(api_url)"
   ]
  },
  {
   "cell_type": "code",
   "execution_count": 3,
   "metadata": {},
   "outputs": [
    {
     "data": {
      "text/plain": [
       "'{\"image_url\":\"https://storage.googleapis.com/vehicle_traffic_images_edem/high.png\"}\\n'"
      ]
     },
     "execution_count": 3,
     "metadata": {},
     "output_type": "execute_result"
    }
   ],
   "source": [
    "service.content.decode('utf-8')"
   ]
  },
  {
   "cell_type": "code",
   "execution_count": 5,
   "metadata": {},
   "outputs": [],
   "source": [
    "import json\n",
    "import io\n",
    "\n",
    "image_url = json.loads(service.content.decode('utf-8'))['image_url']\n",
    "\n",
    "image_response = requests.get(image_url)\n",
    "image_bytes = io.BytesIO(image_response.content).read()"
   ]
  },
  {
   "cell_type": "code",
   "execution_count": 8,
   "metadata": {},
   "outputs": [],
   "source": [
    "# Initialize Vision Api client\n",
    "client = vision.ImageAnnotatorClient()"
   ]
  },
  {
   "cell_type": "code",
   "execution_count": 9,
   "metadata": {},
   "outputs": [],
   "source": [
    "# Call Model \n",
    "image = vision.Image(content=image_bytes)\n",
    "response = client.label_detection(image=image)\n",
    "labels = response.label_annotations"
   ]
  },
  {
   "cell_type": "code",
   "execution_count": null,
   "metadata": {},
   "outputs": [],
   "source": [
    "\"\"\"\n",
    "response = client.object_localization(image=image)\n",
    "objects = response.localized_object_annotations\n",
    "\"\"\""
   ]
  },
  {
   "cell_type": "code",
   "execution_count": 13,
   "metadata": {},
   "outputs": [],
   "source": [
    "api_url = 'https://europe-southwest1-serverless-edem.cloudfunctions.net/getTrafficImages'"
   ]
  },
  {
   "cell_type": "code",
   "execution_count": 13,
   "metadata": {},
   "outputs": [
    {
     "data": {
      "text/plain": [
       "3.494905948638916"
      ]
     },
     "execution_count": 13,
     "metadata": {},
     "output_type": "execute_result"
    }
   ],
   "source": [
    "traffic_keywords = {\"traffic\", \"congestion\", \"car\", \"vehicle\", \"pedestrian\", \"public transport\", \"urban area\", \"city\"}\n",
    "traffic_score = sum(label.score for label in labels if label.description.lower() in traffic_keywords)\n",
    "traffic_score"
   ]
  },
  {
   "cell_type": "code",
   "execution_count": 14,
   "metadata": {},
   "outputs": [],
   "source": [
    "# Labeling the output\n",
    "if traffic_score > 1.5:\n",
    "    prediction =  \"High\", 0.7\n",
    "elif 0.5 < traffic_score <= 1.5:\n",
    "    prediction =  \"Medium\", 0.85\n",
    "else:\n",
    "    prediction = \"Low\", 1.0"
   ]
  },
  {
   "cell_type": "code",
   "execution_count": 15,
   "metadata": {},
   "outputs": [
    {
     "data": {
      "text/plain": [
       "('High', 0.7)"
      ]
     },
     "execution_count": 15,
     "metadata": {},
     "output_type": "execute_result"
    }
   ],
   "source": [
    "prediction"
   ]
  },
  {
   "cell_type": "code",
   "execution_count": 16,
   "metadata": {},
   "outputs": [
    {
     "data": {
      "text/plain": [
       "'https://storage.googleapis.com/vehicle_traffic_images_edem/high.png'"
      ]
     },
     "execution_count": 16,
     "metadata": {},
     "output_type": "execute_result"
    }
   ],
   "source": [
    "image_url"
   ]
  },
  {
   "cell_type": "code",
   "execution_count": 12,
   "metadata": {},
   "outputs": [
    {
     "name": "stdout",
     "output_type": "stream",
     "text": [
      "Mode of transport 0.9803327918052673\n",
      "Urban area 0.9568460583686829\n",
      "City 0.9457762241363525\n",
      "Metropolitan area 0.9289360642433167\n",
      "Metropolis 0.8748548030853271\n",
      "Thoroughfare 0.8466328382492065\n",
      "Traffic 0.8180527687072754\n",
      "Mixed-use 0.8130263090133667\n",
      "Public transport 0.7742308974266052\n",
      "Travel 0.7682755589485168\n"
     ]
    }
   ],
   "source": [
    "for label in labels:\n",
    "\n",
    "    print(label.description, label.score)"
   ]
  },
  {
   "cell_type": "code",
   "execution_count": null,
   "metadata": {},
   "outputs": [],
   "source": []
  }
 ],
 "metadata": {
  "kernelspec": {
   "display_name": "base",
   "language": "python",
   "name": "python3"
  },
  "language_info": {
   "codemirror_mode": {
    "name": "ipython",
    "version": 3
   },
   "file_extension": ".py",
   "mimetype": "text/x-python",
   "name": "python",
   "nbconvert_exporter": "python",
   "pygments_lexer": "ipython3",
   "version": "3.10.16"
  }
 },
 "nbformat": 4,
 "nbformat_minor": 2
}
