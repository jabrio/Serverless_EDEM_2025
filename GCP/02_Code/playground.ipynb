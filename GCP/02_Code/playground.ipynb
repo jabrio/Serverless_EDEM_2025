{
 "cells": [
  {
   "cell_type": "code",
   "execution_count": 6,
   "metadata": {},
   "outputs": [],
   "source": [
    "token = 'dBxjmdMfb0IjqpmTeIJbzk:APA91bFQEB_gbWCfYXdLCnMsUH6sPRn1Bimtf07PXfdM3MxPZnkALS6PM1uQW7AsPKrj6cEuVdkYoWTVw2t0gCM8fcCvmgFvF5JE9-LgM2v8Hl81xVD1We8'"
   ]
  },
  {
   "cell_type": "code",
   "execution_count": null,
   "metadata": {},
   "outputs": [],
   "source": [
    "import logging\n",
    "import firebase_admin\n",
    "from firebase_admin import messaging\n",
    "\n",
    "app = firebase_admin.initialize_app(options={\n",
    "            'projectId': 'rad-qa-ilayer-1552'\n",
    "        })"
   ]
  },
  {
   "cell_type": "code",
   "execution_count": 13,
   "metadata": {},
   "outputs": [],
   "source": [
    "\n",
    "# Prepare the message to be sent \n",
    "try:\n",
    "    message = messaging.MulticastMessage(\n",
    "        notification=messaging.Notification(\n",
    "            title='Test',\n",
    "            body='test',\n",
    "        ),\n",
    "        tokens=[token],\n",
    "    )\n",
    "\n",
    "    response = messaging.send_each_for_multicast(message)\n",
    "\n",
    "    logging.info(f\"Successfully sent {response.success_count} messages.\")\n",
    "    logging.info(f\"Failed to send {response.failure_count} messages.\")\n",
    "\n",
    "except Exception as err:\n",
    "\n",
    "    logging.error(err)\n"
   ]
  },
  {
   "cell_type": "code",
   "execution_count": 14,
   "metadata": {},
   "outputs": [
    {
     "name": "stderr",
     "output_type": "stream",
     "text": [
      "ERROR:root:Error: Permission 'cloudmessaging.messages.create' denied on resource '//cloudresourcemanager.googleapis.com/projects/rad-qa-ilayer-1552' (or it may not exist).\n"
     ]
    }
   ],
   "source": [
    "# Check for individual errors\n",
    "for idx, resp in enumerate(response.responses):\n",
    "    if not resp.success:\n",
    "        logging.error(f\"Error: {resp.exception}\")\n",
    "    else:\n",
    "        print('no')"
   ]
  },
  {
   "cell_type": "code",
   "execution_count": null,
   "metadata": {},
   "outputs": [],
   "source": []
  }
 ],
 "metadata": {
  "kernelspec": {
   "display_name": "serverless_edem",
   "language": "python",
   "name": "python3"
  },
  "language_info": {
   "codemirror_mode": {
    "name": "ipython",
    "version": 3
   },
   "file_extension": ".py",
   "mimetype": "text/x-python",
   "name": "python",
   "nbconvert_exporter": "python",
   "pygments_lexer": "ipython3",
   "version": "3.10.9"
  }
 },
 "nbformat": 4,
 "nbformat_minor": 2
}
